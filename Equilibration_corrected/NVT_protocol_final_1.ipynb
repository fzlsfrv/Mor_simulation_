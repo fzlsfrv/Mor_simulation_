{
 "cells": [
  {
   "cell_type": "code",
   "execution_count": 1,
   "id": "c2a99847",
   "metadata": {},
   "outputs": [],
   "source": [
    "import openmm as mm\n",
    "import numpy as np\n",
    "import openmm.app as app\n",
    "import simtk.unit as unit\n",
    "from openmmforcefields.generators import GAFFTemplateGenerator as gen\n",
    "from openff.toolkit import Topology\n",
    "import pytraj as pt\n",
    "import os\n",
    "import matplotlib.pyplot as plt\n",
    "\n",
    "from openmm.app import CharmmPsfFile, CharmmCrdFile, CharmmParameterSet\n",
    "\n"
   ]
  },
  {
   "cell_type": "code",
   "execution_count": 2,
   "id": "bd12dcdd",
   "metadata": {},
   "outputs": [
    {
     "name": "stderr",
     "output_type": "stream",
     "text": [
      "/scratch/htc/fsafarov/openmm_ff/lib/python3.12/site-packages/openmm/app/charmmparameterset.py:391: UserWarning: Replacing dihedral <DihedralType: k=0.27; phase=180.0; per=2> with <DihedralType: k=0.03; phase=180.0; per=2>\n",
      "  warnings.warn('Replacing dihedral %r with %r' %\n",
      "/scratch/htc/fsafarov/openmm_ff/lib/python3.12/site-packages/openmm/app/charmmparameterset.py:391: UserWarning: Replacing dihedral <DihedralType: k=0.0; phase=0.0; per=3> with <DihedralType: k=0.12; phase=0.0; per=3>\n",
      "  warnings.warn('Replacing dihedral %r with %r' %\n"
     ]
    }
   ],
   "source": [
    "base = '/scratch/htc/fsafarov/structures/8ef5_july_2025/8ef5'\n",
    "\n",
    "#We use psf and crd system because pdb files does not support the 6-digit base system for ATOM ID's, which is in our case utilized for POPC. \n",
    "#Input below is from psf and crd from CHARMM-GUI.\n",
    "\n",
    "psf = CharmmPsfFile(os.path.join(base, 'step5_assembly.psf'))\n",
    "crd = CharmmCrdFile(os.path.join(base, 'step5_assembly.crd'))\n"
   ]
  },
  {
   "cell_type": "code",
   "execution_count": null,
   "id": "677072db-9628-4650-a671-2cc3ce8033b8",
   "metadata": {},
   "outputs": [],
   "source": [
    "with open('/scratch/htc/fsafarov/states/mor_simulation_1/system_npgt_2.xml') as input:\n",
    "    system = mm.XmlSerializer.deserialize(input.read())"
   ]
  },
  {
   "cell_type": "code",
   "execution_count": null,
   "id": "2f348588-7bd8-4b41-aba5-6ee2d0da4254",
   "metadata": {},
   "outputs": [],
   "source": [
    "state = mm.XmlSerializer.deserialize(open('/scratch/htc/fsafarov/states/mor_simulation_1/npgt_eq_2.xml').read())\n",
    "centered_positions = state.getPositions()"
   ]
  },
  {
   "cell_type": "code",
   "execution_count": 14,
   "id": "1fc1f1c9-4f0d-438d-b967-fbb00f29baff",
   "metadata": {},
   "outputs": [],
   "source": [
    "integrator_eq = mm.LangevinIntegrator(300*unit.kelvin, 1/unit.picoseconds, 2.0*unit.femtoseconds)"
   ]
  },
  {
   "cell_type": "code",
   "execution_count": null,
   "id": "d2b399b3-b846-45fe-9502-668760b4352c",
   "metadata": {},
   "outputs": [],
   "source": [
    "platform = mm.Platform.getPlatformByName('CUDA')\n",
    "#to run the simulation on several GPU's parallelly\n",
    "properties  = {'CudaDeviceIndex': '0,1,2', 'CudaPrecision': 'mixed'}"
   ]
  },
  {
   "cell_type": "code",
   "execution_count": null,
   "id": "b2149491",
   "metadata": {},
   "outputs": [],
   "source": [
    "#loads checkpoint if exists\n",
    "simulation_eq = app.Simulation(psf.topology, system, integrator_eq, platform, properties)\n",
    "simulation_eq.loadCheckpoint('/scratch/htc/fsafarov/traj/mor_simulation_suru_prot/checkpoint_pr_npgt_2.chk')\n",
    "state_1 = simulation_eq.context.getState(getVelocities=True)\n",
    "velocities = state_1.getVelocities(asNumpy = True)\n"
   ]
  },
  {
   "cell_type": "code",
   "execution_count": null,
   "id": "88a08893-e9c9-43a9-9275-09e6dd2f17bc",
   "metadata": {},
   "outputs": [],
   "source": [
    "for i in reversed(range(system.getNumForces())):\n",
    "    force = system.getForce(i)\n",
    "    if isinstance(force, mm.MonteCarloMembraneBarostat) or isinstance(force, mm.CustomExternalForce):\n",
    "        system.removeForce(i)"
   ]
  },
  {
   "cell_type": "code",
   "execution_count": null,
   "id": "638d50e8-f725-4191-9bc8-be57ad47c763",
   "metadata": {},
   "outputs": [],
   "source": [
    "for i in range(system.getNumForces()):\n",
    "    force = system.getForce(i)\n",
    "    print(force)"
   ]
  },
  {
   "cell_type": "code",
   "execution_count": null,
   "id": "9a2a20e0-2366-4402-b0d4-470c74b4eff2",
   "metadata": {},
   "outputs": [],
   "source": [
    "protein_restraint = mm.CustomExternalForce('k_2*periodicdistance(x, y, z, x0, y0, z0)^2')\n",
    "# system.addForce(restraint)non-standard (HET) residues (excluding water).\n",
    "# - Inter-residue connectivity of HET  groups to standard groups (including water) or to other HET groups. \n",
    "# - Disulfide bridges specified in the  SSBOND records have corresponding records.\n",
    "\n",
    "protein_restraint.addGlobalParameter('k_2', 5*unit.kilocalories_per_mole/unit.angstrom**2)\n",
    "protein_restraint.addPerParticleParameter('x0')\n",
    "protein_restraint.addPerParticleParameter('y0')\n",
    "protein_restraint.addPerParticleParameter('z0')\n",
    "system.addForce(protein_restraint)\n",
    "\n"
   ]
  },
  {
   "cell_type": "code",
   "execution_count": null,
   "id": "ed1e0e9e-716e-43ea-b709-07a82362f649",
   "metadata": {},
   "outputs": [],
   "source": [
    "#restrain the protein and ligand\n",
    "std_amino_acids = ['GLY', 'TYR', 'PHE', 'ARG', 'HIS', 'ALA', 'PRO', 'GLU', 'SER', 'LYS',\n",
    "    'THR', 'MET', 'CYS', 'LEU', 'GLN', 'ASN', 'VAL', 'ILE', 'ASP', 'TRP']\n",
    "\n",
    "for residue in psf.topology.residues():\n",
    "    if residue.name in std_amino_acids:\n",
    "        for atom in residue.atoms():\n",
    "            if atom.name in ['N', 'CA', 'C', 'O']:\n",
    "                pos = centered_positions[atom.index]\n",
    "                protein_restraint.addParticle(atom.index, [pos[0], pos[1], pos[2]])\n",
    "\n",
    "if residue.name == '7V7':\n",
    "    for atom in residue.atoms():\n",
    "        pos = centered_positions[atom.index]\n",
    "        protein_restraint.addParticle(atom.index, [pos[0], pos[1], pos[2]])\n",
    "        \n",
    "    "
   ]
  },
  {
   "cell_type": "code",
   "execution_count": null,
   "id": "4c04ccfc-a87b-4407-97c2-f0407d2cee4d",
   "metadata": {},
   "outputs": [],
   "source": [
    "simulation_eq.context.reinitialize()\n",
    "simulation_eq.context.setPositions(centered_positions)\n",
    "simulation_eq.context.setVelocities(velocities)"
   ]
  },
  {
   "cell_type": "code",
   "execution_count": null,
   "id": "30c78c3c-fb1f-4cc9-8b7c-50cfb33a2858",
   "metadata": {},
   "outputs": [],
   "source": [
    "a_vec, b_vec, c_vec = state.getPeriodicBoxVectors()\n",
    "\n",
    "simulation_eq.context.setPeriodicBoxVectors(a_vec,b_vec,c_vec)"
   ]
  },
  {
   "cell_type": "code",
   "execution_count": null,
   "id": "85391262-7043-4745-bfa4-92410c765698",
   "metadata": {},
   "outputs": [],
   "source": [
    "dict(simulation_eq.context.getParameters()) #check the padrameters!!!"
   ]
  },
  {
   "cell_type": "code",
   "execution_count": null,
   "id": "6e725b69-2d75-483d-b8ad-b8aa1c2d5862",
   "metadata": {},
   "outputs": [],
   "source": [
    "#check the forces\n",
    "state_2 = simulation_eq.context.getState(getForces=True, getEnergy=True)\n",
    "forces = state_2.getForces(asNumpy = True).value_in_unit(unit.kilojoule/unit.nanometer/unit.mole)\n",
    "norm = np.linalg.norm(forces, axis = 1)\n",
    "max_force = max(norm)\n",
    "np.argmax(norm), np.max(norm)"
   ]
  },
  {
   "cell_type": "code",
   "execution_count": null,
   "id": "dc7f709e-011e-4c9d-b29e-3f192ebb3040",
   "metadata": {},
   "outputs": [],
   "source": [
    "#check energy\n",
    "print(\"Potential energy:\", state_2.getPotentialEnergy())\n",
    "print(\"Kinetic energy:\", state_2.getKineticEnergy())"
   ]
  },
  {
   "cell_type": "code",
   "execution_count": 27,
   "id": "2a1752eb",
   "metadata": {},
   "outputs": [],
   "source": [
    "# simulation_eq.reporters.append(app.StateDataReporter('/scratch/htc/fsafarov/traj/output_membrane_barostat_2.log', 1000, step=True, potentialEnergy=True, temperature=True))\n",
    "\n",
    "simulation_eq.reporters.append(app.DCDReporter('/scratch/htc/fsafarov/traj/mor_simulation_suru_prot/trajectory_pr_nvt_final_1.dcd', 500, enforcePeriodicBox=True))\n",
    "simulation_eq.reporters.append(app.CheckpointReporter('/scratch/htc/fsafarov/traj/mor_simulation_suru_prot/checkpoint_pr_nvt_final_1.chk', 500))\n",
    "simulation_eq.step(25000) #\n"
   ]
  },
  {
   "cell_type": "code",
   "execution_count": null,
   "id": "b94ac8ce-2c63-40fc-840a-10366ee79baf",
   "metadata": {},
   "outputs": [],
   "source": [
    "#NVT pt.2\n",
    "simulation_eq.context.setParameter('k_2', 0.0*unit.kilocalories_per_mole/unit.angstrom**2)\n",
    "integrator_eq.setTemperature(310.15*unit.kelvin)\n",
    "simulation_eq.context.setVelocitiesToTemperature(310.15*unit.kelvin)\n",
    "\n",
    "dict(simulation_eq.context.getParameters()) #check the padrameters!!!"
   ]
  },
  {
   "cell_type": "code",
   "execution_count": null,
   "id": "62a4639c-ad6c-4717-8561-11dc551fbc90",
   "metadata": {},
   "outputs": [],
   "source": [
    "#check the forces\n",
    "state_3 = simulation_eq.context.getState(getForces=True, getEnergy=True)\n",
    "forces = state_3.getForces(asNumpy = True).value_in_unit(unit.kilojoule/unit.nanometer/unit.mole)\n",
    "norm = np.linalg.norm(forces, axis = 1)\n",
    "max_force = max(norm)\n",
    "np.argmax(norm), np.max(norm)"
   ]
  },
  {
   "cell_type": "code",
   "execution_count": null,
   "id": "24c8865e-ec52-4636-ac09-359d32122e40",
   "metadata": {},
   "outputs": [],
   "source": [
    "#check energy\n",
    "print(\"Potential energy:\", state_3.getPotentialEnergy())\n",
    "print(\"Kinetic energy:\", state_3.getKineticEnergy())"
   ]
  },
  {
   "cell_type": "code",
   "execution_count": null,
   "id": "c082d42e-83a2-4291-b2ef-9ddb685a8e02",
   "metadata": {},
   "outputs": [],
   "source": [
    "# simulation_eq.reporters.append(app.StateDataReporter('', 1000, step=True, potentialEnergy=True, temperature=True))\n",
    "\n",
    "simulation_eq.reporters.append(app.DCDReporter('/scratch/htc/fsafarov/traj/mor_simulation_suru_prot/trajectory_pr_nvt_final_2.dcd', 500, enforcePeriodicBox=True))\n",
    "simulation_eq.reporters.append(app.CheckpointReporter('/scratch/htc/fsafarov/traj/mor_simulation_suru_prot/checkpoint_pr_nvt_final_2.chk', 500))\n",
    "simulation_eq.step(25000) #\n"
   ]
  },
  {
   "cell_type": "code",
   "execution_count": null,
   "id": "3ba2bcb7-5667-4161-9bd2-8384e1e33af9",
   "metadata": {},
   "outputs": [],
   "source": [
    "simulation_eq.saveState('/scratch/htc/fsafarov/states/mor_simulation_1/nvt_eq_2.xml')"
   ]
  },
  {
   "cell_type": "code",
   "execution_count": null,
   "id": "58075281-7def-413a-a2cf-0767e76e43cd",
   "metadata": {},
   "outputs": [],
   "source": [
    "with open('/scratch/htc/fsafarov/states/mor_simulation_1/system_nvt_2.xml', 'w') as f:\n",
    "    f.write(mm.XmlSerializer.serialize(system))"
   ]
  }
 ],
 "metadata": {
  "kernelspec": {
   "display_name": "OpenMM (CUDA2)",
   "language": "python",
   "name": "openmm_ff"
  },
  "language_info": {
   "codemirror_mode": {
    "name": "ipython",
    "version": 3
   },
   "file_extension": ".py",
   "mimetype": "text/x-python",
   "name": "python",
   "nbconvert_exporter": "python",
   "pygments_lexer": "ipython3",
   "version": "3.12.2"
  }
 },
 "nbformat": 4,
 "nbformat_minor": 5
}
