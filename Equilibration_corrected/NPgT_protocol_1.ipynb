{
 "cells": [
  {
   "cell_type": "code",
   "execution_count": 1,
   "id": "c2a99847",
   "metadata": {},
   "outputs": [],
   "source": [
    "import openmm as mm\n",
    "import numpy as np\n",
    "import openmm.app as app\n",
    "import simtk.unit as unit\n",
    "from openmmforcefields.generators import GAFFTemplateGenerator as gen\n",
    "from openff.toolkit import Topology\n",
    "import pytraj as pt\n",
    "import os\n",
    "import matplotlib.pyplot as plt\n",
    "\n",
    "from openmm.app import CharmmPsfFile, CharmmCrdFile, CharmmParameterSet\n",
    "\n"
   ]
  },
  {
   "cell_type": "code",
   "execution_count": 2,
   "id": "bd12dcdd",
   "metadata": {},
   "outputs": [
    {
     "name": "stderr",
     "output_type": "stream",
     "text": [
      "/scratch/htc/fsafarov/openmm_ff/lib/python3.12/site-packages/openmm/app/charmmparameterset.py:391: UserWarning: Replacing dihedral <DihedralType: k=0.27; phase=180.0; per=2> with <DihedralType: k=0.03; phase=180.0; per=2>\n",
      "  warnings.warn('Replacing dihedral %r with %r' %\n",
      "/scratch/htc/fsafarov/openmm_ff/lib/python3.12/site-packages/openmm/app/charmmparameterset.py:391: UserWarning: Replacing dihedral <DihedralType: k=0.0; phase=0.0; per=3> with <DihedralType: k=0.12; phase=0.0; per=3>\n",
      "  warnings.warn('Replacing dihedral %r with %r' %\n"
     ]
    }
   ],
   "source": [
    "base = '/scratch/htc/fsafarov/structures/8ef5_july_2025/8ef5'\n",
    "\n",
    "#We use psf and crd system because pdb files does not support the 6-digit base system for ATOM ID's, which is in our case utilized for POPC. \n",
    "#Input below is from psf and crd from CHARMM-GUI.\n",
    "\n",
    "psf = CharmmPsfFile(os.path.join(base, 'step5_assembly.psf'))\n",
    "crd = CharmmCrdFile(os.path.join(base, 'step5_assembly.crd'))\n",
    "\n"
   ]
  },
  {
   "cell_type": "code",
   "execution_count": null,
   "id": "89d54d2f-d70a-48c8-9cc7-b71616ef0c1f",
   "metadata": {},
   "outputs": [],
   "source": [
    "with open('/scratch/htc/fsafarov/states/mor_simulation_1/system_npt.xml') as input:\n",
    "    system = mm.XmlSerializer.deserialize(input.read())"
   ]
  },
  {
   "cell_type": "code",
   "execution_count": null,
   "id": "0fb717e6-f680-4dd2-8995-8f2a74d46302",
   "metadata": {},
   "outputs": [],
   "source": [
    "state = mm.XmlSerializer.deserialize(open('/scratch/htc/fsafarov/states/mor_simulation_1/npt_eq_1.xml').read())\n",
    "centered_positions = state.getPositions()"
   ]
  },
  {
   "cell_type": "code",
   "execution_count": 12,
   "id": "7058b0ab",
   "metadata": {},
   "outputs": [],
   "source": [
    "integrator_eq = mm.LangevinIntegrator(100*unit.kelvin, 1/unit.picoseconds, 2.0*unit.femtoseconds)"
   ]
  },
  {
   "cell_type": "code",
   "execution_count": 14,
   "id": "117a62ed",
   "metadata": {},
   "outputs": [],
   "source": [
    "platform = mm.Platform.getPlatformByName('CUDA')\n",
    "#to run the simulation on several GPU's parallelly\n",
    "properties  = {'CudaDeviceIndex': '0,1,2', 'CudaPrecision': 'mixed'}"
   ]
  },
  {
   "cell_type": "code",
   "execution_count": 15,
   "id": "b2149491",
   "metadata": {},
   "outputs": [],
   "source": [
    "#loads checkpoint if exists\n",
    "simulation_eq = app.Simulation(psf.topology, system, integrator_eq, platform, properties)\n",
    "simulation_eq.loadCheckpoint('/scratch/htc/fsafarov/traj/mor_simulation_suru_prot/checkpoint_pr_npt_1.chk')\n",
    "state_1 = simulation_eq.context.getState(getVelocities=True)\n",
    "velocities = state_1.getVelocities(asNumpy = True)\n"
   ]
  },
  {
   "cell_type": "code",
   "execution_count": null,
   "id": "0965396b-2fa3-42d8-a606-ffe2594f53a3",
   "metadata": {},
   "outputs": [],
   "source": [
    "for i in reversed(range(system.getNumForces())):\n",
    "    force = system.getForce(i)\n",
    "    if isinstance(force, mm.MonteCarloBarostat):\n",
    "        system.removeForce(i)"
   ]
  },
  {
   "cell_type": "code",
   "execution_count": null,
   "id": "3964dc6b-3615-4fa5-9787-a0fc9bbd60e3",
   "metadata": {},
   "outputs": [],
   "source": [
    "for i in range(system.getNumForces()):\n",
    "    force = system.getForce(i)\n",
    "    print(force)"
   ]
  },
  {
   "cell_type": "code",
   "execution_count": null,
   "id": "466d75ce-9c6d-45c1-8b8f-6bdbb2a9d9a7",
   "metadata": {},
   "outputs": [],
   "source": [
    "#Add a barostat with a surface tension\n",
    "system.addForce(mm.MonteCarloMembraneBarostat(\n",
    "    1000*unit.bar,\n",
    "    0.005*unit.dyne/unit.centimeter,\n",
    "    100*unit.kelvin,\n",
    "    mm.MonteCarloMembraneBarostat.XYIsotropic,\n",
    "    mm.MonteCarloMembraneBarostat.ZFree\n",
    "))"
   ]
  },
  {
   "cell_type": "code",
   "execution_count": null,
   "id": "20b75cf9-9b8b-45a0-926b-0ab4c57c34e0",
   "metadata": {},
   "outputs": [],
   "source": [
    "#Whenever changes made to the system, we should reinitialize. Context has some cached data from previous simulations when chk is uploaded, so it needs to be updated to the current system.\n",
    "simulation_eq.context.reinitialize()\n",
    "simulation_eq.context.setPositions(centered_positions)\n",
    "simulation_eq.context.setVelocities(velocities)"
   ]
  },
  {
   "cell_type": "code",
   "execution_count": null,
   "id": "78c3fe6c-640a-4cdd-9fba-f89b441e748e",
   "metadata": {},
   "outputs": [],
   "source": [
    "simulation_eq.context.setParameter('k_2', 10.0*unit.kilocalories_per_mole/unit.angstrom**2)\n",
    "simulation_eq.context.setParameter('k_1', 2.0*unit.kilocalories_per_mole/unit.angstrom**2)"
   ]
  },
  {
   "cell_type": "code",
   "execution_count": null,
   "id": "f3f48dba-8e86-40ff-81c2-efc655f433d2",
   "metadata": {},
   "outputs": [],
   "source": [
    "a_vec, b_vec, c_vec = state.getPeriodicBoxVectors()\n",
    "\n",
    "simulation_eq.context.setPeriodicBoxVectors(a_vec,b_vec,c_vec)"
   ]
  },
  {
   "cell_type": "code",
   "execution_count": null,
   "id": "81b0d35b-baaa-4891-abaf-3331d1bcced1",
   "metadata": {},
   "outputs": [],
   "source": [
    "dict(simulation_eq.context.getParameters()) #check the padrameters!!!"
   ]
  },
  {
   "cell_type": "code",
   "execution_count": null,
   "id": "d3fd9a59-6e70-48aa-b56b-3c6b3d095e11",
   "metadata": {},
   "outputs": [],
   "source": [
    "#check the forces\n",
    "state_2 = simulation_eq.context.getState(getForces=True, getEnergy=True)\n",
    "forces = state_2.getForces(asNumpy = True).value_in_unit(unit.kilojoule/unit.nanometer/unit.mole)\n",
    "norm = np.linalg.norm(forces, axis = 1)\n",
    "max_force = max(norm)\n",
    "np.argmax(norm), np.max(norm)"
   ]
  },
  {
   "cell_type": "code",
   "execution_count": null,
   "id": "a4a9965b-6355-42a3-a1e9-0b49a987ae66",
   "metadata": {},
   "outputs": [],
   "source": [
    "#check energy\n",
    "print(\"Potential energy:\", state_2.getPotentialEnergy())\n",
    "print(\"Kinetic energy:\", state_2.getKineticEnergy())"
   ]
  },
  {
   "cell_type": "code",
   "execution_count": 22,
   "id": "2a1752eb",
   "metadata": {},
   "outputs": [],
   "source": [
    "simulation_eq.reporters.append(app.DCDReporter('/scratch/htc/fsafarov/traj/mor_simulation_suru_prot/trajectory_pr_npgt_1.dcd', 1000, enforcePeriodicBox=True))\n",
    "simulation_eq.reporters.append(app.CheckpointReporter('/scratch/htc/fsafarov/traj/mor_simulation_suru_prot/checkpoint_pr_npgt_1.chk', 1000))\n",
    "simulation_eq.step(50000)\n"
   ]
  },
  {
   "cell_type": "code",
   "execution_count": null,
   "id": "bbb27b2d-b8d2-4613-8768-1a132b0ec3de",
   "metadata": {},
   "outputs": [],
   "source": [
    "simulation_eq.saveState('/scratch/htc/fsafarov/states/mor_simulation_1/npgt_eq_1.xml')"
   ]
  },
  {
   "cell_type": "code",
   "execution_count": null,
   "id": "e0824361-79bf-40c3-9025-65762338221a",
   "metadata": {},
   "outputs": [],
   "source": [
    "with open('/scratch/htc/fsafarov/states/mor_simulation_1/system_npgt.xml', 'w') as f:\n",
    "    f.write(mm.XmlSerializer.serialize(system))"
   ]
  },
  {
   "cell_type": "code",
   "execution_count": 23,
   "id": "9424c8d0-04bb-44a7-9804-7b472cece01a",
   "metadata": {
    "collapsed": true,
    "jupyter": {
     "outputs_hidden": true,
     "source_hidden": true
    }
   },
   "outputs": [
    {
     "data": {
      "text/plain": [
       "(array([1.72202789e-02, 8.28108951e-02, 2.00830131e-01, ...,\n",
       "        0.00000000e+00, 0.00000000e+00, 1.09683305e-04]),\n",
       " array([0.01821176, 0.09529747, 0.17238318, ..., 7.57261104, 7.64969675,\n",
       "        7.72678246]),\n",
       " <BarContainer object of 100 artists>)"
      ]
     },
     "execution_count": 23,
     "metadata": {},
     "output_type": "execute_result"
    },
    {
     "data": {
      "image/png": "[encoded data removed]",
      "text/plain": [
       "<Figure size 640x480 with 1 Axes>"
      ]
     },
     "metadata": {},
     "output_type": "display_data"
    }
   ],
   "source": [
    "state_1 = simulation_eq.context.getState(getVelocities=True)\n",
    "velocities = state_1.getVelocities().value_in_unit(unit.nanometer/unit.picosecond)\n",
    "speed = np.linalg.norm(velocities, axis = 1)\n",
    "plt.hist(speed, 100, density = True)\n",
    "plt.grid()\n",
    "\n"
   ]
  },
  {
   "cell_type": "code",
   "execution_count": 24,
   "id": "35a4379f-73f4-4e07-9c94-e580076b01d3",
   "metadata": {},
   "outputs": [],
   "source": [
    "# simulation_eq.currentStep"
   ]
  },
  {
   "cell_type": "code",
   "execution_count": null,
   "id": "ffb64713-b6ae-405f-9ba8-444a6a90a758",
   "metadata": {},
   "outputs": [],
   "source": []
  }
 ],
 "metadata": {
  "kernelspec": {
   "display_name": "OpenMM (CUDA2)",
   "language": "python",
   "name": "openmm_ff"
  },
  "language_info": {
   "codemirror_mode": {
    "name": "ipython",
    "version": 3
   },
   "file_extension": ".py",
   "mimetype": "text/x-python",
   "name": "python",
   "nbconvert_exporter": "python",
   "pygments_lexer": "ipython3",
   "version": "3.12.2"
  }
 },
 "nbformat": 4,
 "nbformat_minor": 5
}
