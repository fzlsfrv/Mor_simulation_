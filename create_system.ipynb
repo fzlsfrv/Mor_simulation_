{
 "cells": [
  {
   "cell_type": "code",
   "execution_count": 1,
   "id": "4fa795b3-a7f9-400f-9060-a7af7f0d4937",
   "metadata": {},
   "outputs": [],
   "source": [
    "import openmm as mm\n",
    "import shlex\n",
    "import subprocess\n",
    "import numpy as np\n",
    "\n",
    "import matplotlib as mpl\n",
    "import matplotlib.pyplot as plt\n",
    "\n",
    "import pdbfixer\n",
    "import openmm.app as app\n",
    "import simtk.unit as unit\n",
    "from openmmforcefields.generators import GAFFTemplateGenerator as gen\n",
    "from openff.toolkit import Topology, Molecule, ForceField\n"
   ]
  },
  {
   "cell_type": "code",
   "execution_count": 2,
   "id": "7275f60f-d0da-4121-916c-43b2d08c3823",
   "metadata": {},
   "outputs": [],
   "source": [
    "# with open('/scratch/htc/fsafarov/structures/8ef5_only_p_fv.pdb', 'r') as file_, open('/scratch/htc/fsafarov/structures/8ef5_fv_only_p_fixed.pdb', 'w') as output:\n",
    "#     for line in file_:\n",
    "#         if line.startswith('ATOM') and 'SOD' in line[17:20]:\n",
    "#             line = line[:76] + 'Na' + line[78:]\n",
    "#         if line.startswith('ATOM') and 'CLA' in line[17:20]:\n",
    "#             line = line[:76] + 'Cl' + line[78:]\n",
    "#         output.write(line)"
   ]
  },
  {
   "cell_type": "code",
   "execution_count": 3,
   "id": "9b80a6f3-cd2d-4b65-b821-2ebbf5edb345",
   "metadata": {},
   "outputs": [],
   "source": [
    "# input_path = '/scratch/htc/fsafarov/structures/8ef5_only_p_fv.pdb'\n",
    "# output_path = '/scratch/htc/fsafarov/structures/fixed.pdb'\n",
    "\n",
    "# def patch_element(line, element):\n",
    "#     line = line.rstrip('\\n')\n",
    "#     # Ensure line is at least 78 characters long\n",
    "#     if len(line) < 78:\n",
    "#         line = line.ljust(78)\n",
    "#     return line[:76] + f\"{element:>2}\" + line[78:] + '\\n'\n",
    "\n",
    "# with open(input_path, 'r') as infile, open(output_path, 'w') as outfile:\n",
    "#     for line in infile:\n",
    "#         if line.startswith(('ATOM', 'HETATM')) and 'SOD' in line[17:20]:\n",
    "#             line = patch_element(line, 'Na')\n",
    "#         if line.startswith(('ATOM', 'HETATM')) and 'CLA' in line[17:20]:\n",
    "#             line = patch_element(line, 'Cl')\n",
    "#         outfile.write(line)"
   ]
  },
  {
   "cell_type": "code",
   "execution_count": 4,
   "id": "3ddae5ec-f395-46af-8420-8b5750639b5d",
   "metadata": {},
   "outputs": [],
   "source": [
    "#forcefield.getUnmatchedResidues(model.topology)"
   ]
  },
  {
   "cell_type": "code",
   "execution_count": 5,
   "id": "6f099d7b-3e76-4105-8440-2400bb4a4197",
   "metadata": {},
   "outputs": [],
   "source": [
    "# for bond in model.topology.bonds():\n",
    "#     atom1, atom2 = bond\n",
    "#     print(f\"{atom1.residue.name}:{atom1.name} - {atom2.residue.name}:{atom2.name}\")"
   ]
  },
  {
   "cell_type": "code",
   "execution_count": 6,
   "id": "7999283b-5ffd-4f0c-9ae5-fdcb9866629d",
   "metadata": {},
   "outputs": [],
   "source": [
    "# for res in model.topology.residues():\n",
    "#     print(res.index, res.name)\n",
    "\n",
    "#print([res for res in forcefield._templates])\n",
    "\n",
    "#forcefield.getMatchingTemplates(model.topology)\n",
    "\n",
    "\n",
    "# from openmm.app import Topology\n",
    "# top = model.topology\n",
    "# chains = list(top.chains())\n",
    "# if len(chains) == 0:\n",
    "#     new_top = Topology()\n",
    "#     chain = new_top.addChain()\n",
    "#     for res in top.residues():\n",
    "#         new_res = new_top.addResidue(res.name, chain)\n",
    "#         for atom in res.atoms():\n",
    "#             new_top.addAtom(atom.name, atom.element, new_res)\n",
    "#     model.topology = new_top\n",
    "\n",
    "\n",
    "#forcefield.getUnmatchedResidues(model.topology)\n",
    "\n"
   ]
  },
  {
   "cell_type": "code",
   "execution_count": 7,
   "id": "a6729af8-f749-4fbc-9dc3-ce39f10bffaa",
   "metadata": {},
   "outputs": [],
   "source": [
    "forcefield = app.ForceField(\"charmm36.xml\") \n",
    "#forcefield = app.ForceField(\"amber14-all.xml\", \"amber14/lipid17.xml\", \"amber14/tip3p.xml\")"
   ]
  },
  {
   "cell_type": "code",
   "execution_count": 8,
   "id": "7e10fc91-c721-4b7b-b3bb-429615024de5",
   "metadata": {},
   "outputs": [],
   "source": [
    "#struct = app.PDBFile('/scratch/htc/fsafarov/structures/8ef5_fv_only_p.pdb')\n",
    "\n",
    "#pdb_x = app.PDBxFile('/scratch/htc/fsafarov/structures/8ef_wo_ion_wo_ligand.cif')\n",
    "\n",
    "struct = pdbfixer.PDBFixer('/scratch/htc/fsafarov/structures/8ef_wo_ion_wo_ligand.cif')\n",
    "struct.findMissingResidues() \n",
    "struct.findMissingAtoms()\n",
    "# struct.findNonstandardResidues()\n",
    "# struct.replaceNonstandardResidues()\n",
    "struct.addMissingAtoms()\n",
    "struct.addMissingHydrogens()\n",
    "\n",
    "\n",
    "\n",
    "model = app.Modeller(struct.topology, struct.positions)\n"
   ]
  },
  {
   "cell_type": "code",
   "execution_count": 9,
   "id": "5e834b22-47e8-4cbf-9761-4d64be059d3f",
   "metadata": {},
   "outputs": [],
   "source": [
    "# ligand = Molecule.from_file('/scratch/htc/fsafarov/structures/8ef5/8ef5_opm_ligand.sdf')\n",
    "\n",
    "# l_top = ligand.to_topology()\n",
    "\n",
    "# model.add(l_top.to_openmm(), l_top.get_positions().to_openmm())\n",
    "\n",
    "\n",
    "# gaff2 = gen([ligand])\n",
    "\n",
    "# forcefield.registerTemplateGenerator(gaff2.generator)"
   ]
  },
  {
   "cell_type": "code",
   "execution_count": 10,
   "id": "73687139-fc1a-4800-b0fa-def9387fa585",
   "metadata": {},
   "outputs": [
    {
     "ename": "ValueError",
     "evalue": "No template found for residue 1 (POPC).  The set of atoms matches POPC, but the bonds are different.  Perhaps the chain is missing a terminal group?  For more information, see https://github.com/openmm/openmm/wiki/Frequently-Asked-Questions#template",
     "output_type": "error",
     "traceback": [
      "\u001b[31m---------------------------------------------------------------------------\u001b[39m",
      "\u001b[31mValueError\u001b[39m                                Traceback (most recent call last)",
      "\u001b[36mCell\u001b[39m\u001b[36m \u001b[39m\u001b[32mIn[10]\u001b[39m\u001b[32m, line 1\u001b[39m\n\u001b[32m----> \u001b[39m\u001b[32m1\u001b[39m system = \u001b[43mforcefield\u001b[49m\u001b[43m.\u001b[49m\u001b[43mcreateSystem\u001b[49m\u001b[43m(\u001b[49m\u001b[43mmodel\u001b[49m\u001b[43m.\u001b[49m\u001b[43mtopology\u001b[49m\u001b[43m)\u001b[49m\n\u001b[32m      2\u001b[39m integrator = mm.LangevinIntegrator(\u001b[32m300\u001b[39m*unit.kelvin, \u001b[32m1\u001b[39m/unit.picosecond, \u001b[32m0.002\u001b[39m*unit.picoseconds)\n\u001b[32m      3\u001b[39m simulation = app.Simulation(model.topology, system, integrator)\n",
      "\u001b[36mFile \u001b[39m\u001b[32m/scratch/htc/fsafarov/openmm_ff/lib/python3.12/site-packages/openmm/app/forcefield.py:1257\u001b[39m, in \u001b[36mForceField.createSystem\u001b[39m\u001b[34m(self, topology, nonbondedMethod, nonbondedCutoff, constraints, rigidWater, removeCMMotion, hydrogenMass, residueTemplates, ignoreExternalBonds, switchDistance, flexibleConstraints, drudeMass, **args)\u001b[39m\n\u001b[32m   1253\u001b[39m rigidResidue = [\u001b[38;5;28;01mFalse\u001b[39;00m]*topology.getNumResidues()\n\u001b[32m   1255\u001b[39m \u001b[38;5;66;03m# Find the template matching each residue and assign atom types.\u001b[39;00m\n\u001b[32m-> \u001b[39m\u001b[32m1257\u001b[39m templateForResidue = \u001b[38;5;28;43mself\u001b[39;49m\u001b[43m.\u001b[49m\u001b[43m_matchAllResiduesToTemplates\u001b[49m\u001b[43m(\u001b[49m\u001b[43mdata\u001b[49m\u001b[43m,\u001b[49m\u001b[43m \u001b[49m\u001b[43mtopology\u001b[49m\u001b[43m,\u001b[49m\u001b[43m \u001b[49m\u001b[43mresidueTemplates\u001b[49m\u001b[43m,\u001b[49m\u001b[43m \u001b[49m\u001b[43mignoreExternalBonds\u001b[49m\u001b[43m)\u001b[49m\n\u001b[32m   1258\u001b[39m \u001b[38;5;28;01mfor\u001b[39;00m res \u001b[38;5;129;01min\u001b[39;00m topology.residues():\n\u001b[32m   1259\u001b[39m     \u001b[38;5;28;01mif\u001b[39;00m res.name == \u001b[33m'\u001b[39m\u001b[33mHOH\u001b[39m\u001b[33m'\u001b[39m:\n\u001b[32m   1260\u001b[39m         \u001b[38;5;66;03m# Determine whether this should be a rigid water.\u001b[39;00m\n",
      "\u001b[36mFile \u001b[39m\u001b[32m/scratch/htc/fsafarov/openmm_ff/lib/python3.12/site-packages/openmm/app/forcefield.py:1472\u001b[39m, in \u001b[36mForceField._matchAllResiduesToTemplates\u001b[39m\u001b[34m(self, data, topology, residueTemplates, ignoreExternalBonds, ignoreExtraParticles, recordParameters)\u001b[39m\n\u001b[32m   1470\u001b[39m                 \u001b[38;5;28;01mbreak\u001b[39;00m\n\u001b[32m   1471\u001b[39m \u001b[38;5;28;01mif\u001b[39;00m matches \u001b[38;5;129;01mis\u001b[39;00m \u001b[38;5;28;01mNone\u001b[39;00m:\n\u001b[32m-> \u001b[39m\u001b[32m1472\u001b[39m     \u001b[38;5;28;01mraise\u001b[39;00m \u001b[38;5;167;01mValueError\u001b[39;00m(\u001b[33m'\u001b[39m\u001b[33mNo template found for residue \u001b[39m\u001b[38;5;132;01m%d\u001b[39;00m\u001b[33m (\u001b[39m\u001b[38;5;132;01m%s\u001b[39;00m\u001b[33m).  \u001b[39m\u001b[38;5;132;01m%s\u001b[39;00m\u001b[33m  For more information, see https://github.com/openmm/openmm/wiki/Frequently-Asked-Questions#template\u001b[39m\u001b[33m'\u001b[39m % (res.index+\u001b[32m1\u001b[39m, res.name, _findMatchErrors(\u001b[38;5;28mself\u001b[39m, res)))\n\u001b[32m   1473\u001b[39m \u001b[38;5;28;01melse\u001b[39;00m:\n\u001b[32m   1474\u001b[39m     \u001b[38;5;28;01mif\u001b[39;00m recordParameters:\n",
      "\u001b[31mValueError\u001b[39m: No template found for residue 1 (POPC).  The set of atoms matches POPC, but the bonds are different.  Perhaps the chain is missing a terminal group?  For more information, see https://github.com/openmm/openmm/wiki/Frequently-Asked-Questions#template"
     ]
    }
   ],
   "source": [
    "system = forcefield.createSystem(model.topology)\n",
    "integrator = mm.LangevinIntegrator(300*unit.kelvin, 1/unit.picosecond, 0.002*unit.picoseconds)\n",
    "simulation = app.Simulation(model.topology, system, integrator)\n",
    "simulation.context.setPositions(model.positions)"
   ]
  },
  {
   "cell_type": "code",
   "execution_count": null,
   "id": "72e42d87-0e6e-4f8d-b901-f350e3518c23",
   "metadata": {},
   "outputs": [],
   "source": [
    "simulation.minimizeEnergy()"
   ]
  },
  {
   "cell_type": "code",
   "execution_count": null,
   "id": "7850dfa9-bf31-444c-ba40-433955aeca72",
   "metadata": {},
   "outputs": [],
   "source": [
    "integrator = mm.VerletIntegrator(2.0 * unit.femtoseconds)\n",
    "integrator.setConstraintTolerance(0.00001)"
   ]
  },
  {
   "cell_type": "markdown",
   "id": "0c052c66-d450-48b6-8c19-2ac8d265dc59",
   "metadata": {},
   "source": [
    "1. Add ions separately and apply a force field on them, then merge, then create system (like done on ligands)\n",
    "2. Problem is in createSystem (create system without ions, and only with ions, then merge)?\n",
    "3. "
   ]
  }
 ],
 "metadata": {
  "kernelspec": {
   "display_name": "Python (openmm_ff)",
   "language": "python",
   "name": "openmm_ff"
  },
  "language_info": {
   "codemirror_mode": {
    "name": "ipython",
    "version": 3
   },
   "file_extension": ".py",
   "mimetype": "text/x-python",
   "name": "python",
   "nbconvert_exporter": "python",
   "pygments_lexer": "ipython3",
   "version": "3.12.2"
  }
 },
 "nbformat": 4,
 "nbformat_minor": 5
}
