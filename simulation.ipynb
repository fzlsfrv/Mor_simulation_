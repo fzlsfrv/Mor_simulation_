{
 "cells": [
  {
   "cell_type": "code",
   "execution_count": 1,
   "id": "ddad2bec-2e5c-4179-89fd-140e3db0d595",
   "metadata": {},
   "outputs": [],
   "source": [
    "import openmm as mm\n",
    "import shlex\n",
    "import subprocess\n",
    "import numpy as np\n",
    "\n",
    "import matplotlib as mpl\n",
    "import matplotlib.pyplot as plt\n",
    "\n",
    "import pdbfixer\n",
    "import openmm.app as app\n",
    "import simtk.unit as unit\n",
    "from openmmforcefields.generators import GAFFTemplateGenerator as gen\n",
    "from openff.toolkit import Topology\n",
    "import os\n",
    "\n",
    "from openmm.app import CharmmPsfFile, CharmmCrdFile, CharmmParameterSet"
   ]
  },
  {
   "cell_type": "code",
   "execution_count": 2,
   "id": "c756fbad-814c-4241-aef1-357fc07c7be1",
   "metadata": {},
   "outputs": [
    {
     "name": "stderr",
     "output_type": "stream",
     "text": [
      "/scratch/htc/fsafarov/openmm_ff/lib/python3.12/site-packages/openmm/app/charmmparameterset.py:391: UserWarning: Replacing dihedral <DihedralType: k=0.27; phase=180.0; per=2> with <DihedralType: k=0.03; phase=180.0; per=2>\n",
      "  warnings.warn('Replacing dihedral %r with %r' %\n"
     ]
    }
   ],
   "source": [
    "base = '/scratch/htc/fsafarov/forcefield_charmm/charmm-gui/charmmgui-8ef5'\n",
    "\n",
    "psf = CharmmPsfFile('/scratch/htc/fsafarov/forcefield_charmm/charmm-gui/charmmgui-8ef5/step5_assembly.psf')\n",
    "crd = CharmmCrdFile('/scratch/htc/fsafarov/forcefield_charmm/charmm-gui/charmmgui-8ef5/step5_assembly.crd')\n",
    "\n",
    "\n",
    "\n",
    "params = CharmmParameterSet(\n",
    "    os.path.join(base, 'toppar/top_all36_prot.rtf'),\n",
    "    os.path.join(base, 'toppar/par_all36m_prot.prm'),\n",
    "    os.path.join(base, 'toppar/top_all36_lipid.rtf'),\n",
    "    os.path.join(base, 'toppar/par_all36_lipid.prm'),\n",
    "    os.path.join(base, 'toppar/toppar_water_ions.str'),\n",
    "    os.path.join(base, '7v7/7v7.rtf'),\n",
    "    os.path.join(base, '7v7/7v7.prm')\n",
    ")"
   ]
  },
  {
   "cell_type": "code",
   "execution_count": 3,
   "id": "f5b91beb-7411-4f8d-a014-cbef5176803f",
   "metadata": {},
   "outputs": [],
   "source": [
    "# pdb = app.PDBFile('/scratch/htc/fsafarov/forcefield_charmm/charmm-gui/charmmgui-8ef5/openmm/step5_input.pdb')\n",
    "# psf.setBox(*pdb.topology.getPeriodicBoxVectors())\n",
    "psf.setBox(82.6*unit.angstroms, 82.6*unit.angstroms, 100.0*unit.angstroms)"
   ]
  },
  {
   "cell_type": "code",
   "execution_count": 4,
   "id": "9a8d9af6-d97a-40a0-93df-b72bb1a250be",
   "metadata": {},
   "outputs": [
    {
     "name": "stdout",
     "output_type": "stream",
     "text": [
      "{-1: <openmm.app.internal.charmm.topologyobjects.AtomType object at 0x7fca31cd3020>}\n"
     ]
    }
   ],
   "source": [
    "print(params.atom_types_int);"
   ]
  },
  {
   "cell_type": "code",
   "execution_count": 5,
   "id": "d202ac68-250d-4ca1-8cee-8b4f0fc4c4ae",
   "metadata": {},
   "outputs": [],
   "source": [
    "system = psf.createSystem(params, nonbondedMethod=app.PME, nonbondedCutoff=1.0 * unit.nanometer, constraints = app.HBonds)"
   ]
  },
  {
   "cell_type": "code",
   "execution_count": 6,
   "id": "041856ca-676e-43cf-beb0-946d407a379b",
   "metadata": {},
   "outputs": [],
   "source": [
    "integrator_eq = mm.LangevinIntegrator(300.0*unit.kelvin, 1/unit.picoseconds, 2.0*unit.femtoseconds)"
   ]
  },
  {
   "cell_type": "code",
   "execution_count": 7,
   "id": "f257c6b5-9919-4be6-917f-a7ccde94df06",
   "metadata": {},
   "outputs": [
    {
     "data": {
      "text/plain": [
       "9"
      ]
     },
     "execution_count": 7,
     "metadata": {},
     "output_type": "execute_result"
    }
   ],
   "source": [
    "system.addForce(mm.MonteCarloBarostat(1*unit.atmosphere, 300*unit.kelvin))"
   ]
  },
  {
   "cell_type": "code",
   "execution_count": 8,
   "id": "8be1b8fc-f2a1-4386-b6b1-94d70ec7a1e4",
   "metadata": {},
   "outputs": [],
   "source": [
    "platform = mm.Platform.getPlatformByName('CUDA')"
   ]
  },
  {
   "cell_type": "code",
   "execution_count": 9,
   "id": "f23649c9-b2eb-45a5-bc3f-1508994808e8",
   "metadata": {},
   "outputs": [],
   "source": [
    "simulation_eq = app.Simulation(psf.topology, system, integrator_eq)\n",
    "simulation_eq.context.setPositions(crd.positions)"
   ]
  },
  {
   "cell_type": "code",
   "execution_count": 10,
   "id": "d400173e-53cd-4d70-82b7-8622a2702a6b",
   "metadata": {},
   "outputs": [
    {
     "name": "stdout",
     "output_type": "stream",
     "text": [
      "Potential energy before minimization: 6.659178027074589e+20 kJ/mol\n",
      "Potential energy after minimization: -832847.7754094787 kJ/mol\n"
     ]
    }
   ],
   "source": [
    "# Before minimization\n",
    "state = simulation_eq.context.getState(getEnergy=True)\n",
    "print(\"Potential energy before minimization:\", state.getPotentialEnergy())\n",
    "\n",
    "# Run minimization\n",
    "simulation_eq.minimizeEnergy()\n",
    "\n",
    "# After minimization\n",
    "state = simulation_eq.context.getState(getEnergy=True)\n",
    "print(\"Potential energy after minimization:\", state.getPotentialEnergy())"
   ]
  },
  {
   "cell_type": "code",
   "execution_count": 11,
   "id": "dce68ec6-f93d-4575-9838-995fb2192342",
   "metadata": {},
   "outputs": [],
   "source": [
    "for step in range(50):  # Assuming 50 steps, each representing 1 ns of equilibration\n",
    "    restraint_force = 5.0 * (50 - step) / 50.0  # Taper from 5 kcal/mol/Å² to 0\n",
    "    # Apply harmonic restraints to protein heavy atoms\n",
    "    # Restraint application code here (custom based on specific atoms or atom groups)\n",
    "\n",
    "    simulation_eq.step(1000)  # Run for 1 ns (modify based on actual timestep size)\n"
   ]
  },
  {
   "cell_type": "code",
   "execution_count": 13,
   "id": "8598c250-e3e3-4976-b800-620a44c63183",
   "metadata": {},
   "outputs": [],
   "source": [
    "steps_per_microsecond = int(1e6 / (2.4 * 1e-3))  # Number of steps per µs with 2.4 fs timestep\n",
    "simulation_eq.reporters.append(app.StateDataReporter('/scratch/htc/fsafarov/traj/output_1.log', 100, step=True, potentialEnergy=True, temperature=True))\n",
    "simulation_eq.reporters.append(app.DCDReporter('/scratch/htc/fsafarov/traj/trajectory_1.dcd', 100))\n",
    "simulation_eq.step(10000)  # Run for 100 µs"
   ]
  },
  {
   "cell_type": "code",
   "execution_count": null,
   "id": "374ebee7-6765-41cb-9e62-e0a9a3c31b59",
   "metadata": {},
   "outputs": [],
   "source": [
    "with open('/scratch/htc/fsafarov/traj/trajectory_1.dcd', 'r') as file:\n",
    "    content = file.read()\n",
    "\n",
    "with open('output2.log', 'w') as file_:\n",
    "    file_.write(content)"
   ]
  },
  {
   "cell_type": "code",
   "execution_count": null,
   "id": "fb02b29a-b5af-4e2c-8638-776afd6eec81",
   "metadata": {},
   "outputs": [],
   "source": [
    "with open('/scratch/htc/fsafarov/traj/trajectory_1.dcd', 'rb') as file:\n",
    "    content = file.read()\n",
    "\n",
    "\n",
    "with open('trajectory_2.dcd', 'wb') as file_:\n",
    "    file_.write(content)"
   ]
  },
  {
   "cell_type": "code",
   "execution_count": null,
   "id": "5800111c-d12e-4698-877e-7fd8672f50c2",
   "metadata": {},
   "outputs": [],
   "source": []
  }
 ],
 "metadata": {
  "kernelspec": {
   "display_name": "Python (openmm_ff)",
   "language": "python",
   "name": "openmm_ff"
  },
  "language_info": {
   "codemirror_mode": {
    "name": "ipython",
    "version": 3
   },
   "file_extension": ".py",
   "mimetype": "text/x-python",
   "name": "python",
   "nbconvert_exporter": "python",
   "pygments_lexer": "ipython3",
   "version": "3.12.2"
  }
 },
 "nbformat": 4,
 "nbformat_minor": 5
}
