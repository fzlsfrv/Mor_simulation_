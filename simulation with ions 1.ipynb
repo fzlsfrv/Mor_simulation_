{
 "cells": [
  {
   "cell_type": "code",
   "execution_count": 2,
   "id": "2bc0db2a-0598-4435-9861-fa6477e1613c",
   "metadata": {},
   "outputs": [],
   "source": [
    "import openmm as mm\n",
    "import shlex\n",
    "import subprocess\n",
    "\n",
    "\n",
    "import matplotlib as mpl\n",
    "import matplotlib.pyplot as plt\n",
    "\n",
    "import pdbfixer\n",
    "import openmm.app as app\n",
    "import simtk.unit as unit\n",
    "from openmmforcefields.generators import GAFFTemplateGenerator as gen\n",
    "from openff.toolkit import Topology\n",
    "import os\n",
    "\n",
    "from openmm.app import CharmmPsfFile, CharmmCrdFile, CharmmParameterSet\n"
   ]
  },
  {
   "cell_type": "code",
   "execution_count": 3,
   "id": "c8481363-2ede-41f2-9f0c-43d3b0e6b270",
   "metadata": {},
   "outputs": [
    {
     "name": "stderr",
     "output_type": "stream",
     "text": [
      "/scratch/htc/fsafarov/openmm_ff/lib/python3.12/site-packages/openmm/app/charmmparameterset.py:391: UserWarning: Replacing dihedral <DihedralType: k=0.27; phase=180.0; per=2> with <DihedralType: k=0.03; phase=180.0; per=2>\n",
      "  warnings.warn('Replacing dihedral %r with %r' %\n",
      "/scratch/htc/fsafarov/openmm_ff/lib/python3.12/site-packages/openmm/app/charmmparameterset.py:391: UserWarning: Replacing dihedral <DihedralType: k=0.0; phase=0.0; per=3> with <DihedralType: k=0.12; phase=0.0; per=3>\n",
      "  warnings.warn('Replacing dihedral %r with %r' %\n"
     ]
    }
   ],
   "source": [
    "base = '/scratch/htc/fsafarov/structures/8ef5_w_i/charmm-gui/charmm-gui'\n",
    "\n",
    "#We use psf and crd system because pdb files does not support the 6-digit base system for ATOM ID's, which is in our case utilized for POPC. \n",
    "#Input below is from psf and crd from CHARMM-GUI.\n",
    "\n",
    "psf = CharmmPsfFile(os.path.join(base, 'step5_assembly.psf'))\n",
    "crd = CharmmCrdFile(os.path.join(base, 'step5_assembly.crd'))\n",
    "\n",
    "#Input all the parameters from toppar folder of CHARMM-GUI output for all the components of psf and crd.\n",
    "\n",
    "params = CharmmParameterSet(\n",
    "    os.path.join(base, 'toppar/top_all36_prot.rtf'),\n",
    "    os.path.join(base, 'toppar/par_all36m_prot.prm'),\n",
    "    os.path.join(base, 'toppar/top_all36_na.rtf'),\n",
    "    os.path.join(base, 'toppar/par_all36_na.prm'),\n",
    "    os.path.join(base, 'toppar/top_all36_carb.rtf'),\n",
    "    os.path.join(base, 'toppar/par_all36_carb.prm'),\n",
    "    os.path.join(base, 'toppar/top_all36_lipid.rtf'),\n",
    "    os.path.join(base, 'toppar/par_all36_lipid.prm'),\n",
    "    os.path.join(base, 'toppar/top_all36_cgenff.rtf'),\n",
    "    os.path.join(base, 'toppar/par_all36_cgenff.prm'),\n",
    "    os.path.join(base, 'toppar/toppar_all36_moreions.str'),\n",
    "    os.path.join(base, 'toppar/top_interface.rtf'),\n",
    "    os.path.join(base, 'toppar/par_interface.prm'),\n",
    "    os.path.join(base, 'toppar/toppar_all36_nano_lig.str'),\n",
    "    os.path.join(base, 'toppar/toppar_all36_nano_lig_patch.str'),\n",
    "    os.path.join(base, 'toppar/toppar_all36_synthetic_polymer.str'),\n",
    "    os.path.join(base, 'toppar/toppar_all36_synthetic_polymer_patch.str'),\n",
    "    os.path.join(base, 'toppar/toppar_all36_polymer_solvent.str'),\n",
    "    os.path.join(base, 'toppar/toppar_water_ions.str'),\n",
    "    os.path.join(base, 'toppar/toppar_dum_noble_gases.str'),\n",
    "    os.path.join(base, 'toppar/toppar_ions_won.str'),\n",
    "    os.path.join(base, 'toppar/cam.str'),\n",
    "    os.path.join(base, 'toppar/toppar_all36_prot_arg0.str'),\n",
    "    os.path.join(base, 'toppar/toppar_all36_prot_c36m_d_aminoacids.str'),\n",
    "    os.path.join(base, 'toppar/toppar_all36_prot_fluoro_alkanes.str'),\n",
    "    os.path.join(base, 'toppar/toppar_all36_prot_heme.str'),\n",
    "    os.path.join(base, 'toppar/toppar_all36_prot_na_combined.str'),\n",
    "    os.path.join(base, 'toppar/toppar_all36_prot_retinol.str'),\n",
    "    os.path.join(base, 'toppar/toppar_all36_prot_model.str'),\n",
    "    os.path.join(base, 'toppar/toppar_all36_prot_modify_res.str'),\n",
    "    os.path.join(base, 'toppar/toppar_all36_na_nad_ppi.str'),\n",
    "    os.path.join(base, 'toppar/toppar_all36_na_rna_modified.str'),\n",
    "    os.path.join(base, 'toppar/toppar_all36_lipid_sphingo.str'),\n",
    "    os.path.join(base, 'toppar/toppar_all36_lipid_archaeal.str'),\n",
    "    os.path.join(base, 'toppar/toppar_all36_lipid_bacterial.str'),\n",
    "    os.path.join(base, 'toppar/toppar_all36_lipid_cardiolipin.str'),\n",
    "    os.path.join(base, 'toppar/toppar_all36_lipid_cholesterol.str'),\n",
    "    os.path.join(base, 'toppar/toppar_all36_lipid_dag.str'),\n",
    "    os.path.join(base, 'toppar/toppar_all36_lipid_inositol.str'),\n",
    "    os.path.join(base, 'toppar/toppar_all36_lipid_lnp.str'),\n",
    "    os.path.join(base, 'toppar/toppar_all36_lipid_lps.str'),\n",
    "    os.path.join(base, 'toppar/toppar_all36_lipid_mycobacterial.str'),\n",
    "    os.path.join(base, 'toppar/toppar_all36_lipid_miscellaneous.str'),\n",
    "    os.path.join(base, 'toppar/toppar_all36_lipid_model.str'),\n",
    "    os.path.join(base, 'toppar/toppar_all36_lipid_prot.str'),\n",
    "    os.path.join(base, 'toppar/toppar_all36_lipid_tag.str'),\n",
    "    os.path.join(base, 'toppar/toppar_all36_lipid_yeast.str'),\n",
    "    os.path.join(base, 'toppar/toppar_all36_lipid_hmmm.str'),\n",
    "    os.path.join(base, 'toppar/toppar_all36_lipid_detergent.str'),\n",
    "    os.path.join(base, 'toppar/toppar_all36_lipid_ether.str'),\n",
    "    os.path.join(base, 'toppar/toppar_all36_lipid_oxidized.str'),\n",
    "    os.path.join(base, 'toppar/toppar_all36_carb_glycolipid.str'),\n",
    "    os.path.join(base, 'toppar/toppar_all36_carb_glycopeptide.str'),\n",
    "    os.path.join(base, 'toppar/toppar_all36_carb_imlab.str'),\n",
    "    os.path.join(base, 'toppar/toppar_all36_label_spin.str'),\n",
    "    os.path.join(base, 'toppar/toppar_all36_label_fluorophore.str'),\n",
    "    os.path.join(base, '7v7/7v7.rtf'),\n",
    "    os.path.join(base, '7v7/7v7.prm')\n",
    ")"
   ]
  },
  {
   "cell_type": "code",
   "execution_count": 4,
   "id": "018a1305-516c-4dfc-93cf-86522aa370c0",
   "metadata": {},
   "outputs": [],
   "source": [
    "psf.setBox(80*unit.angstroms, 80*unit.angstroms, 90.0*unit.angstrom)\n",
    "#Set up a box"
   ]
  },
  {
   "cell_type": "code",
   "execution_count": 5,
   "id": "4f773ad2-7e11-4b13-b690-928351041b07",
   "metadata": {},
   "outputs": [
    {
     "name": "stdout",
     "output_type": "stream",
     "text": [
      "(Vec3(x=8.0, y=0.0, z=0.0), Vec3(x=0.0, y=8.0, z=0.0), Vec3(x=0.0, y=0.0, z=9.0)) nm\n"
     ]
    }
   ],
   "source": [
    "print(psf.topology.getPeriodicBoxVectors())\n",
    "#check if the pbc is working"
   ]
  },
  {
   "cell_type": "code",
   "execution_count": 6,
   "id": "97076973-6f82-469d-90c4-1d041edaf563",
   "metadata": {},
   "outputs": [],
   "source": [
    "fixer = pdbfixer.PDBFixer(filename='system_box.pdb')\n",
    "fixer.findMissingResidues()\n",
    "fixer.findMissingAtoms()\n",
    "fixer.addMissingAtoms()\n",
    "fixer.addMissingHydrogens()"
   ]
  },
  {
   "cell_type": "code",
   "execution_count": 8,
   "id": "b5ae674f-a3aa-4e79-b8b8-3229f371744d",
   "metadata": {},
   "outputs": [
    {
     "name": "stdout",
     "output_type": "stream",
     "text": [
      "{-1: <openmm.app.internal.charmm.topologyobjects.AtomType object at 0x7ff8e886cf50>}\n"
     ]
    }
   ],
   "source": [
    "print(params.atom_types_int);\n",
    "#Verifying if all the atoms are parametrized"
   ]
  },
  {
   "cell_type": "code",
   "execution_count": 10,
   "id": "60d9f136-d994-48ed-90cd-a82df4239da2",
   "metadata": {},
   "outputs": [],
   "source": [
    "system = psf.createSystem(params, nonbondedMethod=app.PME, nonbondedCutoff=1.0 * unit.nanometer, constraints = app.HBonds)\n",
    "#constraints = app.HBonds::We constraint the Hydrogen bonds so that they won\\t stretch during the simulation"
   ]
  },
  {
   "cell_type": "code",
   "execution_count": 11,
   "id": "7123849e-670f-4ccd-a170-9487d3887977",
   "metadata": {},
   "outputs": [],
   "source": [
    "integrator_eq = mm.LangevinIntegrator(310.10*unit.kelvin, 1/unit.picoseconds, 2.0*unit.femtoseconds)"
   ]
  },
  {
   "cell_type": "code",
   "execution_count": 12,
   "id": "6733db12-a255-40b8-9d1f-194c9272fdec",
   "metadata": {},
   "outputs": [
    {
     "data": {
      "text/plain": [
       "9"
      ]
     },
     "execution_count": 12,
     "metadata": {},
     "output_type": "execute_result"
    }
   ],
   "source": [
    "system.addForce(mm.MonteCarloBarostat(1*unit.atmosphere, 310.10*unit.kelvin))"
   ]
  },
  {
   "cell_type": "code",
   "execution_count": 14,
   "id": "5bf24790-d866-4800-ab48-ce87757716ad",
   "metadata": {},
   "outputs": [],
   "source": [
    "platform = mm.Platform.getPlatformByName('CUDA')"
   ]
  },
  {
   "cell_type": "code",
   "execution_count": 15,
   "id": "14affd42-f502-4bbd-a712-774219567418",
   "metadata": {},
   "outputs": [
    {
     "name": "stdout",
     "output_type": "stream",
     "text": [
      "CUDA\n"
     ]
    }
   ],
   "source": [
    "print(mm.Platform.getName(platform))"
   ]
  },
  {
   "cell_type": "code",
   "execution_count": 16,
   "id": "5a1311b0-0ba3-4343-bd9a-cbfac02257d6",
   "metadata": {},
   "outputs": [],
   "source": [
    "simulation_eq = app.Simulation(psf.topology, system, integrator_eq, platform)\n",
    "\n",
    "simulation_eq.context.setPositions(crd.positions)"
   ]
  },
  {
   "cell_type": "code",
   "execution_count": 17,
   "id": "687d6c73-b58b-4acb-8c87-4df132812daa",
   "metadata": {
    "scrolled": true
   },
   "outputs": [
    {
     "name": "stdout",
     "output_type": "stream",
     "text": [
      "First atom position: Vec3(x=37.6858657556, y=0.9888895581, z=-18.8703364334) A\n",
      "First atom after setPositions: Vec3(x=3.7685866355895996, y=0.09888935089111328, z=-1.8870337009429932) nm\n"
     ]
    }
   ],
   "source": [
    "print(\"First atom position:\", crd.positions[0])\n",
    "\n",
    "\n",
    "positions_check = simulation_eq.context.getState(getPositions=True).getPositions()\n",
    "print(\"First atom after setPositions:\", positions_check[0])\n"
   ]
  },
  {
   "cell_type": "code",
   "execution_count": 18,
   "id": "d482129b-162a-48b5-9f69-ee4e67ec5200",
   "metadata": {},
   "outputs": [
    {
     "name": "stdout",
     "output_type": "stream",
     "text": [
      "Potential energy before minimization: 2.5368718818352354e+29 kJ/mol\n",
      "Potential energy after minimization: 1.9578670457359354e+29 kJ/mol\n"
     ]
    }
   ],
   "source": [
    "# Before minimization\n",
    "state = simulation_eq.context.getState(getEnergy=True)\n",
    "print(\"Potential energy before minimization:\", state.getPotentialEnergy())\n",
    "\n",
    "# Run minimization\n",
    "simulation_eq.minimizeEnergy()\n",
    "\n",
    "#maxIterations=500, tolerance=10*unit.kilojoule/(unit.nanometers * unit.mole)\n",
    "\n",
    "\n",
    "# After minimization\n",
    "state = simulation_eq.context.getState(getEnergy=True)\n",
    "print(\"Potential energy after minimization:\", state.getPotentialEnergy())\n"
   ]
  },
  {
   "cell_type": "code",
   "execution_count": null,
   "id": "740185eb-8a00-4ac5-90e9-5a3ab65b9c58",
   "metadata": {},
   "outputs": [],
   "source": [
    "#simulation_eq.minimizeEnergy()\n",
    "#default number of iterations is unlimited. maxiterations = 0 mean unlimited."
   ]
  },
  {
   "cell_type": "code",
   "execution_count": null,
   "id": "346345a6-0c00-4ec0-8b22-a1e370ec92b3",
   "metadata": {},
   "outputs": [],
   "source": [
    "for step in range(15):  # Assuming 50 steps, each representing 1 ns of equilibration\n",
    "    restraint_force = 5.0 * (50 - step) / 50.0  # Taper from 5 kcal/mol/Å² to 0\n",
    "    #print(step)\n",
    "    #print(restraint_force)\n",
    "    \n",
    "    # Apply harmonic restraints to protein heavy atoms\n",
    "    # Restraint application code here (custom based on specific atoms or atom groups)\n",
    "\n",
    "    simulation_eq.step(100)  # Run for 1 ns (modify based on actual timestep size)"
   ]
  },
  {
   "cell_type": "code",
   "execution_count": null,
   "id": "b53ad75b-5559-4e8e-994c-5f155676aca5",
   "metadata": {},
   "outputs": [],
   "source": [
    "steps_per_microsecond = int(1e6 / (2.4 * 1e-3))# Number of steps per µs with 2.4 fs timestep\n",
    "print(steps_per_microsecond)\n",
    "simulation_eq.reporters.append(app.StateDataReporter('/scratch/htc/fsafarov/traj/output_3.log', 10, step=True, potentialEnergy=True, temperature=True))\n",
    "simulation_eq.reporters.append(app.DCDReporter('/scratch/htc/fsafarov/traj/trajectory_3.dcd', 10))\n"
   ]
  },
  {
   "cell_type": "code",
   "execution_count": null,
   "id": "a0446fa5-000c-404f-9932-c7f423690c50",
   "metadata": {},
   "outputs": [],
   "source": []
  }
 ],
 "metadata": {
  "kernelspec": {
   "display_name": "Python (openmm_ff)",
   "language": "python",
   "name": "openmm_ff"
  },
  "language_info": {
   "codemirror_mode": {
    "name": "ipython",
    "version": 3
   },
   "file_extension": ".py",
   "mimetype": "text/x-python",
   "name": "python",
   "nbconvert_exporter": "python",
   "pygments_lexer": "ipython3",
   "version": "3.12.2"
  }
 },
 "nbformat": 4,
 "nbformat_minor": 5
}
