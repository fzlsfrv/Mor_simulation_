{
 "cells": [
  {
   "cell_type": "code",
   "execution_count": 1,
   "id": "c2a99847",
   "metadata": {},
   "outputs": [],
   "source": [
    "import openmm as mm\n",
    "# import shlex\n",
    "# import subprocess\n",
    "\n",
    "\n",
    "# import matplotlib as mpl\n",
    "# import matplotlib.pyplot as plt\n",
    "\n",
    "# import pdbfixer\n",
    "import numpy as np\n",
    "import openmm.app as app\n",
    "import simtk.unit as unit\n",
    "from openmmforcefields.generators import GAFFTemplateGenerator as gen\n",
    "from openff.toolkit import Topology\n",
    "import pytraj as pt\n",
    "import os\n",
    "\n",
    "from openmm.app import CharmmPsfFile, CharmmCrdFile, CharmmParameterSet\n",
    "import MDAnalysis as mda"
   ]
  },
  {
   "cell_type": "code",
   "execution_count": 2,
   "id": "bd12dcdd",
   "metadata": {},
   "outputs": [
    {
     "name": "stderr",
     "output_type": "stream",
     "text": [
      "/scratch/htc/fsafarov/openmm_ff/lib/python3.12/site-packages/openmm/app/charmmparameterset.py:391: UserWarning: Replacing dihedral <DihedralType: k=0.27; phase=180.0; per=2> with <DihedralType: k=0.03; phase=180.0; per=2>\n",
      "  warnings.warn('Replacing dihedral %r with %r' %\n",
      "/scratch/htc/fsafarov/openmm_ff/lib/python3.12/site-packages/openmm/app/charmmparameterset.py:391: UserWarning: Replacing dihedral <DihedralType: k=0.0; phase=0.0; per=3> with <DihedralType: k=0.12; phase=0.0; per=3>\n",
      "  warnings.warn('Replacing dihedral %r with %r' %\n"
     ]
    }
   ],
   "source": [
    "base = '/scratch/htc/fsafarov/structures/8ef5_w_i/charmm-gui/charmm-gui'\n",
    "\n",
    "#We use psf and crd system because pdb files does not support the 6-digit base system for ATOM ID's, which is in our case utilized for POPC. \n",
    "#Input below is from psf and crd from CHARMM-GUI.\n",
    "\n",
    "psf = CharmmPsfFile(os.path.join(base, 'step5_assembly.psf'))\n",
    "crd = CharmmCrdFile(os.path.join(base, 'step5_assembly.crd'))\n",
    "\n",
    "#Input all the parameters from toppar folder of CHARMM-GUI output for all the components of psf and crd.\n",
    "\n",
    "params = CharmmParameterSet(\n",
    "    os.path.join(base, 'toppar/top_all36_prot.rtf'),\n",
    "    os.path.join(base, 'toppar/par_all36m_prot.prm'),\n",
    "    os.path.join(base, 'toppar/top_all36_na.rtf'),\n",
    "    os.path.join(base, 'toppar/par_all36_na.prm'),\n",
    "    os.path.join(base, 'toppar/top_all36_carb.rtf'),\n",
    "    os.path.join(base, 'toppar/par_all36_carb.prm'),\n",
    "    os.path.join(base, 'toppar/top_all36_lipid.rtf'),\n",
    "    os.path.join(base, 'toppar/par_all36_lipid.prm'),\n",
    "    os.path.join(base, 'toppar/top_all36_cgenff.rtf'),\n",
    "    os.path.join(base, 'toppar/par_all36_cgenff.prm'),\n",
    "    os.path.join(base, 'toppar/toppar_all36_moreions.str'),\n",
    "    os.path.join(base, 'toppar/top_interface.rtf'),\n",
    "    os.path.join(base, 'toppar/par_interface.prm'),\n",
    "    os.path.join(base, 'toppar/toppar_all36_nano_lig.str'),\n",
    "    os.path.join(base, 'toppar/toppar_all36_nano_lig_patch.str'),\n",
    "    os.path.join(base, 'toppar/toppar_all36_synthetic_polymer.str'),\n",
    "    os.path.join(base, 'toppar/toppar_all36_synthetic_polymer_patch.str'),\n",
    "    os.path.join(base, 'toppar/toppar_all36_polymer_solvent.str'),\n",
    "    os.path.join(base, 'toppar/toppar_water_ions.str'),\n",
    "    os.path.join(base, 'toppar/toppar_dum_noble_gases.str'),\n",
    "    os.path.join(base, 'toppar/toppar_ions_won.str'),\n",
    "    os.path.join(base, 'toppar/cam.str'),\n",
    "    os.path.join(base, 'toppar/toppar_all36_prot_arg0.str'),\n",
    "    os.path.join(base, 'toppar/toppar_all36_prot_c36m_d_aminoacids.str'),\n",
    "    os.path.join(base, 'toppar/toppar_all36_prot_fluoro_alkanes.str'),\n",
    "    os.path.join(base, 'toppar/toppar_all36_prot_heme.str'),\n",
    "    os.path.join(base, 'toppar/toppar_all36_prot_na_combined.str'),\n",
    "    os.path.join(base, 'toppar/toppar_all36_prot_retinol.str'),\n",
    "    os.path.join(base, 'toppar/toppar_all36_prot_model.str'),\n",
    "    os.path.join(base, 'toppar/toppar_all36_prot_modify_res.str'),\n",
    "    os.path.join(base, 'toppar/toppar_all36_na_nad_ppi.str'),\n",
    "    os.path.join(base, 'toppar/toppar_all36_na_rna_modified.str'),\n",
    "    os.path.join(base, 'toppar/toppar_all36_lipid_sphingo.str'),\n",
    "    os.path.join(base, 'toppar/toppar_all36_lipid_archaeal.str'),\n",
    "    os.path.join(base, 'toppar/toppar_all36_lipid_bacterial.str'),\n",
    "    os.path.join(base, 'toppar/toppar_all36_lipid_cardiolipin.str'),\n",
    "    os.path.join(base, 'toppar/toppar_all36_lipid_cholesterol.str'),\n",
    "    os.path.join(base, 'toppar/toppar_all36_lipid_dag.str'),\n",
    "    os.path.join(base, 'toppar/toppar_all36_lipid_inositol.str'),\n",
    "    os.path.join(base, 'toppar/toppar_all36_lipid_lnp.str'),\n",
    "    os.path.join(base, 'toppar/toppar_all36_lipid_lps.str'),\n",
    "    os.path.join(base, 'toppar/toppar_all36_lipid_mycobacterial.str'),\n",
    "    os.path.join(base, 'toppar/toppar_all36_lipid_miscellaneous.str'),\n",
    "    os.path.join(base, 'toppar/toppar_all36_lipid_model.str'),\n",
    "    os.path.join(base, 'toppar/toppar_all36_lipid_prot.str'),\n",
    "    os.path.join(base, 'toppar/toppar_all36_lipid_tag.str'),\n",
    "    os.path.join(base, 'toppar/toppar_all36_lipid_yeast.str'),\n",
    "    os.path.join(base, 'toppar/toppar_all36_lipid_hmmm.str'),\n",
    "    os.path.join(base, 'toppar/toppar_all36_lipid_detergent.str'),\n",
    "    os.path.join(base, 'toppar/toppar_all36_lipid_ether.str'),\n",
    "    os.path.join(base, 'toppar/toppar_all36_lipid_oxidized.str'),\n",
    "    os.path.join(base, 'toppar/toppar_all36_carb_glycolipid.str'),\n",
    "    os.path.join(base, 'toppar/toppar_all36_carb_glycopeptide.str'),\n",
    "    os.path.join(base, 'toppar/toppar_all36_carb_imlab.str'),\n",
    "    os.path.join(base, 'toppar/toppar_all36_label_spin.str'),\n",
    "    os.path.join(base, 'toppar/toppar_all36_label_fluorophore.str'),\n",
    "    os.path.join(base, '7v7/7v7.rtf'),\n",
    "    os.path.join(base, '7v7/7v7.prm')\n",
    ")"
   ]
  },
  {
   "cell_type": "code",
   "execution_count": 3,
   "id": "eca43df1",
   "metadata": {},
   "outputs": [],
   "source": [
    "psf.setBox(100.167755*unit.angstroms, 100.167755*unit.angstroms, 127.064628*unit.angstrom)\n",
    "#Set up a box"
   ]
  },
  {
   "cell_type": "code",
   "execution_count": 4,
   "id": "bfab7acc",
   "metadata": {},
   "outputs": [
    {
     "data": {
      "text/plain": [
       "118459"
      ]
     },
     "execution_count": 4,
     "metadata": {},
     "output_type": "execute_result"
    }
   ],
   "source": [
    "n1_atom = psf.topology.getNumAtoms()\n",
    "n1_atom"
   ]
  },
  {
   "cell_type": "code",
   "execution_count": 5,
   "id": "ef6d624c",
   "metadata": {},
   "outputs": [
    {
     "name": "stdout",
     "output_type": "stream",
     "text": [
      "(Vec3(x=10.016775500000001, y=0.0, z=0.0), Vec3(x=0.0, y=10.016775500000001, z=0.0), Vec3(x=0.0, y=0.0, z=12.7064628)) nm\n"
     ]
    }
   ],
   "source": [
    "print(psf.topology.getPeriodicBoxVectors())\n",
    "#check if the pbc is working"
   ]
  },
  {
   "cell_type": "code",
   "execution_count": 6,
   "id": "81e4fb71",
   "metadata": {},
   "outputs": [],
   "source": [
    "# fixer = pdbfixer.PDBFixer(filename='system_box.pdb')\n",
    "# fixer.findMissingResidues()\n",
    "# fixer.findMissingAtoms()\n",
    "# fixer.addMissingAtoms()\n",
    "# fixer.addMissingHydrogens()"
   ]
  },
  {
   "cell_type": "code",
   "execution_count": 7,
   "id": "9e611dbd",
   "metadata": {},
   "outputs": [
    {
     "name": "stdout",
     "output_type": "stream",
     "text": [
      "{-1: <openmm.app.internal.charmm.topologyobjects.AtomType object at 0x7f789daaa8d0>}\n"
     ]
    }
   ],
   "source": [
    "print(params.atom_types_int);\n",
    "#Verifying if all the atoms are parametrized"
   ]
  },
  {
   "cell_type": "code",
   "execution_count": 8,
   "id": "15f73c59",
   "metadata": {},
   "outputs": [],
   "source": [
    "system = psf.createSystem(params, nonbondedMethod=app.PME, nonbondedCutoff=1.0 * unit.nanometer, constraints = app.HBonds)\n",
    "#constraints = app.HBonds::We constraint the Hydrogen bonds so that they won\\t stretch during the simulation"
   ]
  },
  {
   "cell_type": "code",
   "execution_count": 9,
   "id": "7058b0ab",
   "metadata": {},
   "outputs": [],
   "source": [
    "integrator_eq = mm.LangevinIntegrator(310.10*unit.kelvin, 1/unit.picoseconds, 2.0*unit.femtoseconds)"
   ]
  },
  {
   "cell_type": "code",
   "execution_count": 10,
   "id": "51c90481",
   "metadata": {},
   "outputs": [
    {
     "data": {
      "text/plain": [
       "9"
      ]
     },
     "execution_count": 10,
     "metadata": {},
     "output_type": "execute_result"
    }
   ],
   "source": [
    "system.addForce(mm.MonteCarloBarostat(1*unit.atmosphere, 310.10*unit.kelvin))"
   ]
  },
  {
   "cell_type": "code",
   "execution_count": 11,
   "id": "117a62ed",
   "metadata": {},
   "outputs": [],
   "source": [
    "platform = mm.Platform.getPlatformByName('CUDA')"
   ]
  },
  {
   "cell_type": "code",
   "execution_count": 12,
   "id": "14a7a9ae",
   "metadata": {},
   "outputs": [
    {
     "name": "stdout",
     "output_type": "stream",
     "text": [
      "CUDA\n"
     ]
    }
   ],
   "source": [
    "print(mm.Platform.getName(platform))"
   ]
  },
  {
   "cell_type": "code",
   "execution_count": 13,
   "id": "b2149491",
   "metadata": {},
   "outputs": [],
   "source": [
    "simulation_eq = app.Simulation(psf.topology, system, integrator_eq, platform)\n",
    "#crd.positions = [p * 0.1 for p in crd.positions]\n",
    "simulation_eq.context.setPositions(crd.positions)"
   ]
  },
  {
   "cell_type": "code",
   "execution_count": 14,
   "id": "d351b8b2",
   "metadata": {},
   "outputs": [
    {
     "name": "stdout",
     "output_type": "stream",
     "text": [
      "Vec3(x=37.6858657556, y=0.9888895581, z=-18.8703364334) A\n",
      "Vec3(x=38.6367620965, y=0.6241948639, z=-18.5827712699) A\n",
      "Vec3(x=37.07998828, y=0.8088928581, z=-18.0251067183) A\n",
      "Vec3(x=37.7901802562, y=1.9974508636, z=-19.0265588286) A\n",
      "Vec3(x=37.1534179002, y=0.2329982214, z=-20.0699441249) A\n"
     ]
    }
   ],
   "source": [
    "for i in range(5):\n",
    "    print(crd.positions[i])"
   ]
  },
  {
   "cell_type": "code",
   "execution_count": 15,
   "id": "d0f8d7e0",
   "metadata": {},
   "outputs": [
    {
     "name": "stdout",
     "output_type": "stream",
     "text": [
      "Vec3(x=3.7685866355895996, y=0.09888898211669783, z=-1.8870337009429932) nm\n",
      "Vec3(x=3.8636763095855713, y=0.062419522583006426, z=-1.8582770824432373) nm\n",
      "Vec3(x=3.707998752593994, y=0.08088933306884627, z=-1.8025106191635132) nm\n",
      "Vec3(x=3.779017925262451, y=0.1997448094482408, z=-1.902655839920044) nm\n",
      "Vec3(x=3.715341806411743, y=0.02329980212402205, z=-2.0069944858551025) nm\n"
     ]
    }
   ],
   "source": [
    "#Check position units, if there is any mismatch. NO MISMATCH\n",
    "positions_check = simulation_eq.context.getState(getPositions=True).getPositions()\n",
    "\n",
    "for i in range(5):\n",
    "    print(positions_check[i])\n",
    "\n"
   ]
  },
  {
   "cell_type": "code",
   "execution_count": 16,
   "id": "e8ffcf65-361d-4e22-b4c8-54f61e5c7536",
   "metadata": {},
   "outputs": [],
   "source": [
    "# Centering the solute within the periodic box before running the simulation\n",
    "# This step is not strictly required for the simulation to run correctly,\n",
    "# but without it, the periodic box may appear misaligned with the structure,\n",
    "# causing the protein (or membrane) to drift outside the visible box in trajectory files.\n",
    "# Centering improves visualization and helps ensure proper PBC wrapping in trajectory output.\n",
    "\n",
    "center = np.mean(positions_check.value_in_unit(unit.nanometer), axis=0)\n",
    "box = psf.topology.getUnitCellDimensions().value_in_unit(unit.nanometer)\n",
    "box_center = np.array(box) / 2.0\n",
    "translation = box_center - center\n",
    "centered_positions = positions_check + translation * unit.nanometer\n",
    "simulation_eq.context.setPositions(centered_positions)"
   ]
  },
  {
   "cell_type": "code",
   "execution_count": 17,
   "id": "cb87738a",
   "metadata": {},
   "outputs": [
    {
     "name": "stdout",
     "output_type": "stream",
     "text": [
      "Potential energy before minimization: -1180127.289593787 kJ/mol\n",
      "Potential energy after minimization: -1474327.975140662 kJ/mol\n"
     ]
    }
   ],
   "source": [
    "# Before minimization\n",
    "state = simulation_eq.context.getState(getEnergy=True)\n",
    "print(\"Potential energy before minimization:\", state.getPotentialEnergy())\n",
    "\n",
    "simulation_eq.minimizeEnergy()\n",
    "#default number of iterations is unlimited. maxiterations = 0 mean unlimited.\n",
    "\n",
    "# After minimization\n",
    "state = simulation_eq.context.getState(getEnergy=True)\n",
    "print(\"Potential energy after minimization:\", state.getPotentialEnergy())\n"
   ]
  },
  {
   "cell_type": "code",
   "execution_count": 18,
   "id": "2a1752eb",
   "metadata": {},
   "outputs": [],
   "source": [
    "# steps_per_microsecond = int(1e6 / (2.4 * 1e-3))# Number of steps per µs with 2.4 fs timestep\n",
    "# print(steps_per_microsecond)\n",
    "simulation_eq.reporters.append(app.StateDataReporter('/scratch/htc/fsafarov/traj/output_centered.log', 100, step=True, potentialEnergy=True, temperature=True))\n",
    "simulation_eq.reporters.append(app.DCDReporter('/scratch/htc/fsafarov/traj/trajectory_centered.dcd', 100, enforcePeriodicBox=True))\n",
    "simulation_eq.step(15000)"
   ]
  },
  {
   "cell_type": "code",
   "execution_count": null,
   "id": "4af80bfd-fd0b-4104-9f5e-28fa39e89bb4",
   "metadata": {},
   "outputs": [],
   "source": []
  }
 ],
 "metadata": {
  "kernelspec": {
   "display_name": "Python (openmm_ff)",
   "language": "python",
   "name": "openmm_ff"
  },
  "language_info": {
   "codemirror_mode": {
    "name": "ipython",
    "version": 3
   },
   "file_extension": ".py",
   "mimetype": "text/x-python",
   "name": "python",
   "nbconvert_exporter": "python",
   "pygments_lexer": "ipython3",
   "version": "3.12.2"
  }
 },
 "nbformat": 4,
 "nbformat_minor": 5
}
