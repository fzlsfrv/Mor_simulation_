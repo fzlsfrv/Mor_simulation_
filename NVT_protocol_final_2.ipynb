{
 "cells": [
  {
   "cell_type": "code",
   "execution_count": 1,
   "id": "c2a99847",
   "metadata": {},
   "outputs": [],
   "source": [
    "import openmm as mm\n",
    "import numpy as np\n",
    "import openmm.app as app\n",
    "import simtk.unit as unit\n",
    "from openmmforcefields.generators import GAFFTemplateGenerator as gen\n",
    "from openff.toolkit import Topology\n",
    "import pytraj as pt\n",
    "import os\n",
    "import matplotlib.pyplot as plt\n",
    "\n",
    "from openmm.app import CharmmPsfFile, CharmmCrdFile, CharmmParameterSet\n",
    "\n"
   ]
  },
  {
   "cell_type": "code",
   "execution_count": 2,
   "id": "bd12dcdd",
   "metadata": {},
   "outputs": [
    {
     "name": "stderr",
     "output_type": "stream",
     "text": [
      "/scratch/htc/fsafarov/openmm_ff/lib/python3.12/site-packages/openmm/app/charmmparameterset.py:391: UserWarning: Replacing dihedral <DihedralType: k=0.27; phase=180.0; per=2> with <DihedralType: k=0.03; phase=180.0; per=2>\n",
      "  warnings.warn('Replacing dihedral %r with %r' %\n",
      "/scratch/htc/fsafarov/openmm_ff/lib/python3.12/site-packages/openmm/app/charmmparameterset.py:391: UserWarning: Replacing dihedral <DihedralType: k=0.0; phase=0.0; per=3> with <DihedralType: k=0.12; phase=0.0; per=3>\n",
      "  warnings.warn('Replacing dihedral %r with %r' %\n"
     ]
    }
   ],
   "source": [
    "base = '/scratch/htc/fsafarov/structures/8ef5_new/8ef5'\n",
    "\n",
    "#We use psf and crd system because pdb files does not support the 6-digit base system for ATOM ID's, which is in our case utilized for POPC. \n",
    "#Input below is from psf and crd from CHARMM-GUI.\n",
    "\n",
    "psf = CharmmPsfFile(os.path.join(base, 'step5_assembly.psf'))\n",
    "crd = CharmmCrdFile(os.path.join(base, 'step5_assembly.crd'))\n",
    "\n",
    "#Input all the parameters from toppar folder of CHARMM-GUI output for all the components of psf and crd.\n",
    "\n",
    "params = CharmmParameterSet(\n",
    "    os.path.join(base, 'toppar/top_all36_prot.rtf'),\n",
    "    os.path.join(base, 'toppar/par_all36m_prot.prm'),\n",
    "    os.path.join(base, 'toppar/top_all36_na.rtf'),\n",
    "    os.path.join(base, 'toppar/par_all36_na.prm'),\n",
    "    os.path.join(base, 'toppar/top_all36_carb.rtf'),\n",
    "    os.path.join(base, 'toppar/par_all36_carb.prm'),\n",
    "    os.path.join(base, 'toppar/top_all36_lipid.rtf'),\n",
    "    os.path.join(base, 'toppar/par_all36_lipid.prm'),\n",
    "    os.path.join(base, 'toppar/top_all36_cgenff.rtf'),\n",
    "    os.path.join(base, 'toppar/par_all36_cgenff.prm'),\n",
    "    os.path.join(base, 'toppar/toppar_all36_moreions.str'),\n",
    "    os.path.join(base, 'toppar/top_interface.rtf'),\n",
    "    os.path.join(base, 'toppar/par_interface.prm'),\n",
    "    os.path.join(base, 'toppar/toppar_all36_nano_lig.str'),\n",
    "    os.path.join(base, 'toppar/toppar_all36_nano_lig_patch.str'),\n",
    "    os.path.join(base, 'toppar/toppar_all36_synthetic_polymer.str'),\n",
    "    os.path.join(base, 'toppar/toppar_all36_synthetic_polymer_patch.str'),\n",
    "    os.path.join(base, 'toppar/toppar_all36_polymer_solvent.str'),\n",
    "    os.path.join(base, 'toppar/toppar_water_ions.str'),\n",
    "    os.path.join(base, 'toppar/toppar_dum_noble_gases.str'),\n",
    "    os.path.join(base, 'toppar/toppar_ions_won.str'),\n",
    "    os.path.join(base, 'toppar/cam.str'),\n",
    "    os.path.join(base, 'toppar/toppar_all36_prot_arg0.str'),\n",
    "    os.path.join(base, 'toppar/toppar_all36_prot_c36m_d_aminoacids.str'),\n",
    "    os.path.join(base, 'toppar/toppar_all36_prot_fluoro_alkanes.str'),\n",
    "    os.path.join(base, 'toppar/toppar_all36_prot_heme.str'),\n",
    "    os.path.join(base, 'toppar/toppar_all36_prot_na_combined.str'),\n",
    "    os.path.join(base, 'toppar/toppar_all36_prot_retinol.str'),\n",
    "    os.path.join(base, 'toppar/toppar_all36_prot_model.str'),\n",
    "    os.path.join(base, 'toppar/toppar_all36_prot_modify_res.str'),\n",
    "    os.path.join(base, 'toppar/toppar_all36_na_nad_ppi.str'),\n",
    "    os.path.join(base, 'toppar/toppar_all36_na_rna_modified.str'),\n",
    "    os.path.join(base, 'toppar/toppar_all36_lipid_sphingo.str'),\n",
    "    os.path.join(base, 'toppar/toppar_all36_lipid_archaeal.str'),\n",
    "    os.path.join(base, 'toppar/toppar_all36_lipid_bacterial.str'),\n",
    "    os.path.join(base, 'toppar/toppar_all36_lipid_cardiolipin.str'),\n",
    "    os.path.join(base, 'toppar/toppar_all36_lipid_cholesterol.str'),\n",
    "    os.path.join(base, 'toppar/toppar_all36_lipid_dag.str'),\n",
    "    os.path.join(base, 'toppar/toppar_all36_lipid_inositol.str'),\n",
    "    os.path.join(base, 'toppar/toppar_all36_lipid_lnp.str'),\n",
    "    os.path.join(base, 'toppar/toppar_all36_lipid_lps.str'),\n",
    "    os.path.join(base, 'toppar/toppar_all36_lipid_mycobacterial.str'),\n",
    "    os.path.join(base, 'toppar/toppar_all36_lipid_miscellaneous.str'),\n",
    "    os.path.join(base, 'toppar/toppar_all36_lipid_model.str'),\n",
    "    os.path.join(base, 'toppar/toppar_all36_lipid_prot.str'),\n",
    "    os.path.join(base, 'toppar/toppar_all36_lipid_tag.str'),\n",
    "    os.path.join(base, 'toppar/toppar_all36_lipid_yeast.str'),\n",
    "    os.path.join(base, 'toppar/toppar_all36_lipid_hmmm.str'),\n",
    "    os.path.join(base, 'toppar/toppar_all36_lipid_detergent.str'),\n",
    "    os.path.join(base, 'toppar/toppar_all36_lipid_ether.str'),\n",
    "    os.path.join(base, 'toppar/toppar_all36_lipid_oxidized.str'),\n",
    "    os.path.join(base, 'toppar/toppar_all36_carb_glycolipid.str'),\n",
    "    os.path.join(base, 'toppar/toppar_all36_carb_glycopeptide.str'),\n",
    "    os.path.join(base, 'toppar/toppar_all36_carb_imlab.str'),\n",
    "    os.path.join(base, 'toppar/toppar_all36_label_spin.str'),\n",
    "    os.path.join(base, 'toppar/toppar_all36_label_fluorophore.str'),\n",
    "    os.path.join(base, '7v7/7v7.rtf'),\n",
    "    os.path.join(base, '7v7/7v7.prm')\n",
    ")"
   ]
  },
  {
   "cell_type": "code",
   "execution_count": 3,
   "id": "eca43df1",
   "metadata": {},
   "outputs": [],
   "source": [
    "psf.setBox(100.116666*unit.angstroms, 100.116666*unit.angstroms, 127.138691*unit.angstrom)\n",
    "#Set up a box"
   ]
  },
  {
   "cell_type": "code",
   "execution_count": 4,
   "id": "bfab7acc",
   "metadata": {},
   "outputs": [
    {
     "data": {
      "text/plain": [
       "118273"
      ]
     },
     "execution_count": 4,
     "metadata": {},
     "output_type": "execute_result"
    }
   ],
   "source": [
    "n1_atom = psf.topology.getNumAtoms()\n",
    "n1_atom"
   ]
  },
  {
   "cell_type": "code",
   "execution_count": 9,
   "id": "15f73c59",
   "metadata": {},
   "outputs": [],
   "source": [
    "system = psf.createSystem(params, nonbondedMethod=app.PME, nonbondedCutoff=1.0 * unit.nanometer, constraints = app.HBonds)\n",
    "#constraints = app.HBonds::We constraint the Hydrogen bonds so that they won\\t stretch during the simulation"
   ]
  },
  {
   "cell_type": "code",
   "execution_count": 10,
   "id": "fe159b7d-c2fc-46bf-9ac3-b75b131b9b91",
   "metadata": {},
   "outputs": [],
   "source": [
    "# Centering the solute within the periodic box before running the simulation\n",
    "# This step is not strictly required for the simulation to run correctly,\n",
    "# but without it, the periodic box may appear misaligned with the structure,\n",
    "# causing the protein (or membrane) to drift outside the visible box in trajectory files.\n",
    "# Centering improves visualization and helps ensure proper PBC wrapping in trajectory output.\n",
    "positions_check = crd.positions\n",
    "center = np.mean(positions_check.value_in_unit(unit.nanometer), axis=0)\n",
    "box = psf.topology.getUnitCellDimensions().value_in_unit(unit.nanometer)\n",
    "box_center = np.array(box) / 2.0\n",
    "translation = box_center - center\n",
    "centered_positions = positions_check + translation * unit.nanometer\n",
    "centered_positions = centered_positions.value_in_unit(unit.nanometer)"
   ]
  },
  {
   "cell_type": "code",
   "execution_count": 20,
   "id": "1fc1f1c9-4f0d-438d-b967-fbb00f29baff",
   "metadata": {},
   "outputs": [],
   "source": [
    "integrator_eq = mm.LangevinIntegrator(310.10*unit.kelvin, 1/unit.picoseconds, 2.0*unit.femtoseconds)"
   ]
  },
  {
   "cell_type": "code",
   "execution_count": 12,
   "id": "117a62ed",
   "metadata": {},
   "outputs": [],
   "source": [
    "platform = mm.Platform.getPlatformByName('CUDA')\n",
    "properties  = {'CudaDeviceIndex': '0,1,2', 'CudaPrecision': 'mixed'}"
   ]
  },
  {
   "cell_type": "code",
   "execution_count": 13,
   "id": "b2149491",
   "metadata": {},
   "outputs": [],
   "source": [
    "#loads checkpoint if exists\n",
    "simulation_eq = app.Simulation(psf.topology, system, integrator_eq, platform, properties)\n",
    "if os.path.exists('/scratch/htc/fsafarov/traj/checkpoint_pr_nvt_final_1.chk'):\n",
    "    simulation_eq.loadCheckpoint('/scratch/htc/fsafarov/traj/checkpoint_pr_nvt_final_1.chk')\n",
    "else:\n",
    "    simulation_eq.context.setPositions(centered_positions)\n",
    "    box_vectors = psf.topology.getPeriodicBoxVectors()\n",
    "    simulation_eq.context.setPeriodicBoxVectors(*box_vectors)"
   ]
  },
  {
   "cell_type": "code",
   "execution_count": 19,
   "id": "42a99334-19c1-4bcd-8705-40431e554f51",
   "metadata": {},
   "outputs": [],
   "source": [
    "simulation_eq.context.setVelocitiesToTemperature(310.10*unit.kelvin)"
   ]
  },
  {
   "cell_type": "code",
   "execution_count": 27,
   "id": "2a1752eb",
   "metadata": {},
   "outputs": [],
   "source": [
    "# # steps_per_microsecond = int(1e6 / (2.4 * 1e-3))# Number of steps per µs with 2.4 fs timestep\n",
    "# # print(steps_per_microsecond)\n",
    "# simulation_eq.reporters.append(app.StateDataReporter('/scratch/htc/fsafarov/traj/output_membrane_barostat_2.log', 1000, step=True, potentialEnergy=True, temperature=True))\n",
    "\n",
    "simulation_eq.reporters.append(app.DCDReporter('/scratch/htc/fsafarov/traj/trajectory_pr_nvt_final_2.dcd', 500, enforcePeriodicBox=True))\n",
    "simulation_eq.reporters.append(app.CheckpointReporter('/scratch/htc/fsafarov/traj/checkpoint_pr_nvt_final_2.chk', 500))\n",
    "simulation_eq.step(25000)\n"
   ]
  },
  {
   "cell_type": "code",
   "execution_count": 24,
   "id": "9424c8d0-04bb-44a7-9804-7b472cece01a",
   "metadata": {},
   "outputs": [],
   "source": [
    "# state_1 = simulation_eq.context.getState(getVelocities=True)\n",
    "# velocities = state_1.getVelocities().value_in_unit(unit.nanometer/unit.picosecond)\n",
    "# speed = np.linalg.norm(velocities, axis = 1)\n",
    "# plt.hist(speed, 100, density = True)\n",
    "# plt.grid()\n",
    "\n"
   ]
  },
  {
   "cell_type": "code",
   "execution_count": 26,
   "id": "ad8e7377-87ac-46de-9c36-2873e5d9f56a",
   "metadata": {},
   "outputs": [],
   "source": [
    "# # #progress the simulation in chunks (too much frames at ones for longer simulation)\n",
    "# completed_steps = simulation_eq.currentStep\n",
    "# while completed_steps < 50000000:\n",
    "#     simulation_eq.step(5000000)\n",
    "#     completed_steps += 5000000\n",
    "#     simulation_eq.saveCheckpoint('/scratch/htc/fsafarov/traj/checkpoint4.chk')\n",
    "#     print(f\"{completed_steps} steps are done and written into the checkpoint file.\")\n",
    "    "
   ]
  }
 ],
 "metadata": {
  "kernelspec": {
   "display_name": "OpenMM (CUDA2)",
   "language": "python",
   "name": "openmm_ff"
  },
  "language_info": {
   "codemirror_mode": {
    "name": "ipython",
    "version": 3
   },
   "file_extension": ".py",
   "mimetype": "text/x-python",
   "name": "python",
   "nbconvert_exporter": "python",
   "pygments_lexer": "ipython3",
   "version": "3.12.2"
  }
 },
 "nbformat": 4,
 "nbformat_minor": 5
}
